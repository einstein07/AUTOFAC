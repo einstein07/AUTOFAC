{
 "cells": [
  {
   "cell_type": "code",
   "execution_count": 26,
   "id": "956fe436",
   "metadata": {},
   "outputs": [
    {
     "name": "stdout",
     "output_type": "stream",
     "text": [
      "Enter a string: \n",
      "AeIoU\n",
      "2\n"
     ]
    }
   ],
   "source": [
    "count = 0\n",
    "def countlowercase(str, i):\n",
    "    global count\n",
    "    if(i == -1):\n",
    "        return 0\n",
    "    else:\n",
    "        if (str[-i].islower()):\n",
    "            return (1 + countlowercase(str, i-1))\n",
    "        else:\n",
    "            return countlowercase(str, i-1)\n",
    "            \n",
    "def main():\n",
    "    str = input(\"Enter a string: \\n\")\n",
    "    lowercase = countlowercase(str, len(str)-1)\n",
    "    print (lowercase)\n",
    "if __name__ == '__main__':\n",
    "    main()"
   ]
  },
  {
   "cell_type": "code",
   "execution_count": null,
   "id": "4f6c9681",
   "metadata": {},
   "outputs": [],
   "source": []
  }
 ],
 "metadata": {
  "kernelspec": {
   "display_name": "Python 3 (ipykernel)",
   "language": "python",
   "name": "python3"
  },
  "language_info": {
   "codemirror_mode": {
    "name": "ipython",
    "version": 3
   },
   "file_extension": ".py",
   "mimetype": "text/x-python",
   "name": "python",
   "nbconvert_exporter": "python",
   "pygments_lexer": "ipython3",
   "version": "3.7.10"
  }
 },
 "nbformat": 4,
 "nbformat_minor": 5
}
