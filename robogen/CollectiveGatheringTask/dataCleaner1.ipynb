{
 "cells": [
  {
   "cell_type": "code",
   "execution_count": 1,
   "id": "56819c34",
   "metadata": {},
   "outputs": [
    {
     "name": "stdout",
     "output_type": "stream",
     "text": [
      "starting...\n",
      "Done.\n"
     ]
    }
   ],
   "source": [
    "print(\"starting...\")  \n",
    "newlines = list()\n",
    "getLines = False\n",
    "newlines.append(\"PROC DATE,TIME,BRANCH,SUB-BRANCH,TELLER,FUNC,DESCRIPTION,TRAN AMOUNT,CONTROLLER,LUNUMBER,CLIENT CODE\\n\")\n",
    "with open('spin.csv', mode='r+') as f1:\n",
    "    for line in f1:\n",
    "        result = line.lstrip(' ')\n",
    "        result = result.lstrip(',')\n",
    "        result = result.rstrip('\\n')\n",
    "        result = result.rstrip(',')\n",
    "        result = result.rstrip(' ')\n",
    "        \n",
    "        words = result.split(',')\n",
    "        if (len(words) == 1):\n",
    "            getLines = False\n",
    "        if (getLines ==True):\n",
    "            clientCode = words[0]\n",
    "            procDate = words[1]\n",
    "            time = words[2]\n",
    "            branch = words[3]\n",
    "            subBranch = words[4]\n",
    "            teller = words[5]\n",
    "            func = words[6]\n",
    "            descr = words[7]\n",
    "            transAm = words[8]\n",
    "            controller = words[9]\n",
    "            if (len(words) > 10):\n",
    "                luNumber = words[10]\n",
    "            else:\n",
    "                luNumber = '0'\n",
    "            newlines.append(procDate + \",\" + time + \",\" + branch + \",\" + subBranch + \",\" + teller + \",\" + func + \",\" + descr + \",\" + transAm + \",\" + controller + \",\" + luNumber + \",000000\" + clientCode + \"\\n\")\n",
    "        if (words[len(words)-1] == \"LU NUMBER\"):\n",
    "            getLines = True\n",
    "        \n",
    "\n",
    "    \n",
    "f = open(\"cleanData.csv\", \"w\")\n",
    "for line in newlines:\n",
    "    f.write(line)\n",
    "f.close()\n",
    "print(\"Done.\")"
   ]
  },
  {
   "cell_type": "code",
   "execution_count": null,
   "id": "3e0cbc7c",
   "metadata": {},
   "outputs": [],
   "source": []
  }
 ],
 "metadata": {
  "kernelspec": {
   "display_name": "Python 3 (ipykernel)",
   "language": "python",
   "name": "python3"
  },
  "language_info": {
   "codemirror_mode": {
    "name": "ipython",
    "version": 3
   },
   "file_extension": ".py",
   "mimetype": "text/x-python",
   "name": "python",
   "nbconvert_exporter": "python",
   "pygments_lexer": "ipython3",
   "version": "3.7.10"
  }
 },
 "nbformat": 4,
 "nbformat_minor": 5
}
